{
 "cells": [
  {
   "cell_type": "code",
   "execution_count": 1,
   "metadata": {
    "colab": {
     "base_uri": "https://localhost:8080/"
    },
    "executionInfo": {
     "elapsed": 10,
     "status": "ok",
     "timestamp": 1688541059203,
     "user": {
      "displayName": "이경훈",
      "userId": "01671798524273497956"
     },
     "user_tz": -540
    },
    "id": "3FNyRKmFWlam",
    "outputId": "6b539647-2560-4827-d5d7-1fe86e1f40d7"
   },
   "outputs": [
    {
     "name": "stdout",
     "output_type": "stream",
     "text": [
      "/content/drive/MyDrive/final_data_age\n"
     ]
    }
   ],
   "source": [
    "%cd /content/drive/MyDrive/final_data_age"
   ]
  },
  {
   "cell_type": "code",
   "execution_count": 2,
   "metadata": {
    "colab": {
     "base_uri": "https://localhost:8080/"
    },
    "executionInfo": {
     "elapsed": 4627,
     "status": "ok",
     "timestamp": 1688541063824,
     "user": {
      "displayName": "이경훈",
      "userId": "01671798524273497956"
     },
     "user_tz": -540
    },
    "id": "JPMMuEgOZheA",
    "outputId": "4f286e89-de7b-43bc-fc53-d559525442d0"
   },
   "outputs": [
    {
     "name": "stdout",
     "output_type": "stream",
     "text": [
      "Reading package lists... Done\n",
      "Building dependency tree       \n",
      "Reading state information... Done\n",
      "fonts-nanum is already the newest version (20180306-3).\n",
      "0 upgraded, 0 newly installed, 0 to remove and 15 not upgraded.\n",
      "/usr/share/fonts: caching, new cache contents: 0 fonts, 1 dirs\n",
      "/usr/share/fonts/truetype: caching, new cache contents: 0 fonts, 3 dirs\n",
      "/usr/share/fonts/truetype/humor-sans: caching, new cache contents: 1 fonts, 0 dirs\n",
      "/usr/share/fonts/truetype/liberation: caching, new cache contents: 16 fonts, 0 dirs\n",
      "/usr/share/fonts/truetype/nanum: caching, new cache contents: 10 fonts, 0 dirs\n",
      "/usr/local/share/fonts: caching, new cache contents: 0 fonts, 0 dirs\n",
      "/root/.local/share/fonts: skipping, no such directory\n",
      "/root/.fonts: skipping, no such directory\n",
      "/usr/share/fonts/truetype: skipping, looped directory detected\n",
      "/usr/share/fonts/truetype/humor-sans: skipping, looped directory detected\n",
      "/usr/share/fonts/truetype/liberation: skipping, looped directory detected\n",
      "/usr/share/fonts/truetype/nanum: skipping, looped directory detected\n",
      "/var/cache/fontconfig: cleaning cache directory\n",
      "/root/.cache/fontconfig: not cleaning non-existent cache directory\n",
      "/root/.fontconfig: not cleaning non-existent cache directory\n",
      "fc-cache: succeeded\n"
     ]
    }
   ],
   "source": [
    "!sudo apt-get install -y fonts-nanum\n",
    "!sudo fc-cache -fv\n",
    "!rm ~/.cache/matplotlib -rf"
   ]
  },
  {
   "cell_type": "code",
   "execution_count": 4,
   "metadata": {
    "colab": {
     "base_uri": "https://localhost:8080/",
     "height": 1000,
     "output_embedded_package_id": "1xtHp91apiK-Zy9kCmUzl4iHDfZNJbZmy"
    },
    "executionInfo": {
     "elapsed": 166244,
     "status": "ok",
     "timestamp": 1688541530743,
     "user": {
      "displayName": "이경훈",
      "userId": "01671798524273497956"
     },
     "user_tz": -540
    },
    "id": "FvRJiRZlkq5s",
    "outputId": "3ebaf14d-24d4-42dd-969f-50abbbb109e9"
   },
   "outputs": [
    {
     "data": {
      "text/plain": [
       "Output hidden; open in https://colab.research.google.com to view."
      ]
     },
     "metadata": {},
     "output_type": "display_data"
    }
   ],
   "source": [
    "%matplotlib inline\n",
    "import requests\n",
    "import json\n",
    "import pandas as pd\n",
    "import seaborn as sns\n",
    "import matplotlib as mpl\n",
    "import matplotlib.pyplot as plt\n",
    "plt.rc('font', family='NanumGothic')\n",
    "## 기본 세팅 부분\n",
    "\n",
    "headers = {\"X-Naver-Client-Id\": \"lJrKhZKFXCGXSoYzh7f7\",\n",
    "           \"X-Naver-Client-Secret\":\"YYPQvTkBxR\"}\n",
    "\n",
    "url = \"https://openapi.naver.com/v1/datalab/shopping/categories\"\n",
    "\n",
    "ages=['20','30','40','50','60']\n",
    "def change_index(df, column_name):\n",
    "    df = df.set_index(\"period\")\n",
    "    df.columns = [column_name]\n",
    "    return df\n",
    "## 대분류 카테고리 설정\n",
    "for i in ages:\n",
    "    categories = [\n",
    "        {\"name\": \"PC\", \"param\": [ \"50000089\"]},\n",
    "        {\"name\": \"노트북\", \"param\": [ \"50000151\"]},\n",
    "        {\"name\": \"PC부품\", \"param\": [ \"50000097\"]},\n",
    "        {\"name\": \"노트북액세서리\", \"param\": [ \"50000091\"]},\n",
    "        {\"name\": \"소프트웨어\", \"param\": [ \"50000099\"]},\n",
    "        {\"name\": \"주변기기\", \"param\": [ \"50000094\"]},\n",
    "        {\"name\": \"게임기/타이틀\", \"param\": [ \"50000088\"]},\n",
    "        {\"name\": \"계절가전\", \"param\": [ \"50000212\"]},\n",
    "        {\"name\": \"광학기기/용품\", \"param\": [ \"50000207\"]},\n",
    "        {\"name\": \"모니터\", \"param\": [ \"50000153\"]},\n",
    "        {\"name\": \"생활가전\", \"param\": [ \"50001412\"]},\n",
    "        {\"name\": \"영상가전\", \"param\": [ \"50000208\"]},\n",
    "        {\"name\": \"음향가전\", \"param\": [ \"50000209\"]},\n",
    "        {\"name\": \"이미용가전\", \"param\": [ \"50000211\"]},\n",
    "        {\"name\": \"자동차기기\", \"param\": [ \"50000214\"]},\n",
    "        {\"name\": \"주방가전\", \"param\": [ \"50000213\"]},\n",
    "        {\"name\": \"카메라/캠코더용품\", \"param\": [ \"50000152\"]},\n",
    "        {\"name\": \"태블릿PC액세서리\", \"param\": [ \"50000092\"]},\n",
    "        {\"name\": \"학습기기\", \"param\": [ \"50000087\"]}]\n",
    "## API 요청 값 작성, 디지털/가전 = result[0], 패션의류 = result[1]\n",
    "    data = {\n",
    "    \"startDate\": \"2021-05-10\",\n",
    "    \"endDate\": \"2023-07-03\",\n",
    "    \"timeUnit\": \"date\",\n",
    "    \"category\": [\n",
    "      {\"name\": \"디지털/가전\", \"param\": [ \"50000003\"]},\n",
    "      {\"name\": \"휴대폰액세서리\", \"param\": [ \"50000205\"]},\n",
    "    ],\n",
    "    \"device\":\"\",\n",
    "    \"gender\":\"\",\n",
    "    \"ages\":[i]\n",
    "    }\n",
    "## 데이터 정제 및 merge 파트\n",
    "    response = requests.post(url, headers=headers, json=data)\n",
    "\n",
    "    results = response.json()[\"results\"]\n",
    "\n",
    "\n",
    "    df_a = change_index(pd.DataFrame(results[0][\"data\"]), \"디지털/가전\")\n",
    "    df_b = change_index(pd.DataFrame(results[1][\"data\"]), \"휴대폰액세서리\")\n",
    "##\n",
    "    df_all = pd.merge(df_a, df_b, left_on=\"period\", right_on=\"period\")\n",
    "## 반복문 통해서 카테고리에 설정된 값, 불러오고 저장, 합치기\n",
    "    for category in categories:\n",
    "        if len(data[\"category\"]) > 2:\n",
    "            data[\"category\"].pop(2)\n",
    "        data[\"category\"].append(category)\n",
    "\n",
    "        result = requests.post(url, headers=headers, json=data)\n",
    "\n",
    "        results = result.json()[\"results\"]\n",
    "\n",
    "        df = change_index(pd.DataFrame(results[2][\"data\"]), category[\"name\"])\n",
    "\n",
    "        df_all = pd.merge(df_all, df, left_on=\"period\", right_on=\"period\")\n",
    "## 그래프 그리기\n",
    "    plt.figure(figsize=[36,12])\n",
    "    plt.title(i+'대')\n",
    "    sns.lineplot(data=df_all, markers=True, dashes=False)\n",
    "## 엑셀에 저장\n",
    "    df_all.drop([\"디지털/가전\"], axis=1, inplace=True)\n",
    "    if i == '20':\n",
    "        df_all.to_excel(\"data_mid_04_20_all.xlsx\", sheet_name=\"click ratio\")\n",
    "    if i == '30':\n",
    "        df_all.to_excel(\"data_mid_04_30_all.xlsx\", sheet_name=\"click ratio\")\n",
    "    if i == '40':\n",
    "        df_all.to_excel(\"data_mid_04_40_all.xlsx\", sheet_name=\"click ratio\")\n",
    "    if i == '50':\n",
    "        df_all.to_excel(\"data_mid_04_50_all.xlsx\", sheet_name=\"click ratio\")\n",
    "    if i == '60':\n",
    "        df_all.to_excel(\"data_mid_04_60_all.xlsx\", sheet_name=\"click ratio\")"
   ]
  }
 ],
 "metadata": {
  "colab": {
   "authorship_tag": "ABX9TyMJKes39d11l5m5AY7s2CHc",
   "mount_file_id": "1F0bohE8ddzdEqhIu8XhAkeUgfRqUWk8t",
   "provenance": []
  },
  "kernelspec": {
   "display_name": "Python 3 (ipykernel)",
   "language": "python",
   "name": "python3"
  },
  "language_info": {
   "codemirror_mode": {
    "name": "ipython",
    "version": 3
   },
   "file_extension": ".py",
   "mimetype": "text/x-python",
   "name": "python",
   "nbconvert_exporter": "python",
   "pygments_lexer": "ipython3",
   "version": "3.9.13"
  }
 },
 "nbformat": 4,
 "nbformat_minor": 1
}
